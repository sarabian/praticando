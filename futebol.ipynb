{
  "nbformat": 4,
  "nbformat_minor": 0,
  "metadata": {
    "colab": {
      "provenance": [],
      "authorship_tag": "ABX9TyP/O5UvVX5o3uISPcCcVYnd",
      "include_colab_link": true
    },
    "kernelspec": {
      "name": "python3",
      "display_name": "Python 3"
    },
    "language_info": {
      "name": "python"
    }
  },
  "cells": [
    {
      "cell_type": "markdown",
      "metadata": {
        "id": "view-in-github",
        "colab_type": "text"
      },
      "source": [
        "<a href=\"https://colab.research.google.com/github/sarabian/praticando/blob/main/futebol.ipynb\" target=\"_parent\"><img src=\"https://colab.research.google.com/assets/colab-badge.svg\" alt=\"Open In Colab\"/></a>"
      ]
    },
    {
      "cell_type": "code",
      "source": [
        "\"\"\"\n",
        "programa que coleta informacoes com vários jogadores,\n",
        "incluindo um sistema de visualização de detalhes de aproveitamento \n",
        "de cada jogador.\n",
        "\"\"\"\n",
        "\n",
        "\n",
        "aproveitamento = dict()\n",
        "gols, soma_gols, cod = 0, 0, 0\n",
        "lista_gols, infos_jogadores = list(), list()\n",
        "\n",
        "while True:\n",
        "    # Nome\n",
        "    aproveitamento['nome'] = input(\"Qual o nome do(a) jogador(a)? \\n\")\n",
        "    nome_jogador = aproveitamento['nome']\n",
        "\n",
        "    # Cod\n",
        "    cod += 1\n",
        "    aproveitamento['cod'] = cod\n",
        "\n",
        "    # Partidas\n",
        "    aproveitamento['partidas'] = int(input(\"Partidas jogadas: \\n\"))\n",
        "    partidas_jogadas = aproveitamento['partidas']\n",
        "    \n",
        "    # Gols\n",
        "    for partida in range(partidas_jogadas):\n",
        "        gols_partida = int(input(f\"Quantos gols {nome_jogador} fez na partida {partida+1}? \\n\"))\n",
        "        lista_gols.append(gols_partida)\n",
        "        aproveitamento['lista_gols'] = lista_gols.copy()\n",
        "\n",
        "    # Soma gols\n",
        "    aproveitamento['soma_gols'] = sum(lista_gols)\n",
        "    \n",
        "    # Inserção na listona\n",
        "    infos_jogadores.append(aproveitamento.copy())\n",
        "    lista_gols.clear()\n",
        "\n",
        "    # Continue?\n",
        "    continuar = input(\"Quer continuar? [S/N] \\n\")\n",
        "    continuar = continuar.upper()\n",
        "    if continuar[0] == \"N\":\n",
        "        break\n",
        "\n",
        "# Print da tabela com os status de todos os jogadores\n",
        "print(f\"{'cod':^5} {'nome':^10} {'gols':<25} {'total':<25}\")\n",
        "for jogador in infos_jogadores:\n",
        "    print(f\"{jogador['cod']!s:^5s} {jogador['nome']!s:^10s} {jogador['lista_gols']!s:<25s} {jogador['soma_gols']!s:<25s}\")\n",
        "\n",
        "# Print das informações personalizadas de cada jogador\n",
        "while True:\n",
        "    cod_usuario = int(input(\"Mostrar dados de qual jogador? (999 para parar) \\n\"))\n",
        "\n",
        "    if cod_usuario == 999:\n",
        "        break\n",
        "    if cod_usuario > len(infos_jogadores):\n",
        "        print(\"Erro! Não existe jogador com esse código. Tente novamente!\")\n",
        "    # Mostrar dados de jogador\n",
        "    for dictionary in infos_jogadores:\n",
        "        if dictionary['cod'] == cod_usuario:\n",
        "            print(f\"Levantamento do jogador {dictionary['nome'].upper()}:\")\n",
        "            for n, gol in enumerate(dictionary['lista_gols']):\n",
        "                print(f\"No jogo {n+1}, fez {gol} gols.\")"
      ],
      "metadata": {
        "colab": {
          "base_uri": "https://localhost:8080/"
        },
        "id": "DJpj8Tsp0NM9",
        "outputId": "fda7e938-7ac5-479b-aaa8-4a86069304f9"
      },
      "execution_count": 4,
      "outputs": [
        {
          "name": "stdout",
          "output_type": "stream",
          "text": [
            "Qual o nome do(a) jogador(a)? \n",
            "sara\n",
            "Partidas jogadas: \n",
            "3\n",
            "Quantos gols sara fez na partida 1? \n",
            "2\n",
            "Quantos gols sara fez na partida 2? \n",
            "2\n",
            "Quantos gols sara fez na partida 3? \n",
            "2\n",
            "Quer continuar? [S/N] \n",
            "n\n",
            " cod     nome    gols                      total                    \n",
            "  1      sara    [2, 2, 2]                 6                        \n",
            "Mostrar dados de qual jogador? (999 para parar) \n",
            "999\n"
          ]
        }
      ]
    }
  ]
}